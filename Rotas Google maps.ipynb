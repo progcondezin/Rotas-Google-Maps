{
 "cells": [
  {
   "cell_type": "code",
   "execution_count": 18,
   "metadata": {},
   "outputs": [],
   "source": [
    "from selenium import webdriver\n",
    "import time\n",
    "from selenium.webdriver.common.keys import Keys\n",
    "import pandas as pd\n",
    "from selenium.common.exceptions import NoSuchElementException\n",
    "endereço = pd.read_excel(\"endereço pacaembu.xlsx\")\n",
    "\n",
    "\n"
   ]
  },
  {
   "cell_type": "code",
   "execution_count": 9,
   "metadata": {},
   "outputs": [],
   "source": [
    "navegador = webdriver.Chrome()\n",
    "\n"
   ]
  },
  {
   "cell_type": "code",
   "execution_count": 23,
   "metadata": {},
   "outputs": [],
   "source": [
    "\n",
    "for i, cliente in enumerate(endereço['unidade']):\n",
    "    inicio = endereço.loc[i, 'unidade']\n",
    "    final = endereço.loc[i, 'endereço']\n",
    "    navegador.get(f'https://www.google.com.br/maps/dir/{inicio}/{final}')\n",
    "    navegador.find_element_by_xpath('//*[@id=\"omnibox-directions\"]/div/div[2]/div/div/div[1]/div[2]/button/img').click()\n",
    "    time.sleep(3)\n",
    "    try:\n",
    "        km = navegador.find_element_by_xpath('//*[@id=\"section-directions-trip-0\"]/div/div[1]/div[1]/div[2]/div').text\n",
    "    except NoSuchElementException:\n",
    "        km=(\"ERROR\")\n",
    "    try:\n",
    "        tempo = navegador.find_element_by_xpath('//*[@id=\"section-directions-trip-0\"]/div/div[1]/div[1]/div[1]/span[1]').text\n",
    "    except NoSuchElementException:\n",
    "        tempo=(\"ERROR\")\n",
    "    endereço.loc[i,'distancia'] = km\n",
    "    endereço.loc[i,'tempo'] = tempo\n",
    "\n",
    "    "
   ]
  },
  {
   "cell_type": "code",
   "execution_count": 25,
   "metadata": {},
   "outputs": [],
   "source": [
    "endereço.to_excel('Distancia.xlsx')"
   ]
  }
 ],
 "metadata": {
  "interpreter": {
   "hash": "f8b9a6543fba5fe280e001fbb10305196a7a38b1c308dec467bf7574d79e2fac"
  },
  "kernelspec": {
   "display_name": "Python 3",
   "language": "python",
   "name": "python3"
  },
  "language_info": {
   "codemirror_mode": {
    "name": "ipython",
    "version": 3
   },
   "file_extension": ".py",
   "mimetype": "text/x-python",
   "name": "python",
   "nbconvert_exporter": "python",
   "pygments_lexer": "ipython3",
   "version": "3.8.8"
  }
 },
 "nbformat": 4,
 "nbformat_minor": 2
}
