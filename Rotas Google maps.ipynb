{
 "cells": [
  {
   "cell_type": "code",
   "execution_count": 1,
   "metadata": {},
   "outputs": [],
   "source": [
    "from selenium import webdriver\n",
    "import time\n",
    "from selenium.webdriver.common.keys import Keys\n",
    "import pandas as pd\n",
    "from selenium.common.exceptions import NoSuchElementException\n",
    "from selenium.webdriver.common.by import By\n",
    "endereço = pd.read_excel(\"endereço.xlsx\")\n",
    "\n",
    "\n"
   ]
  },
  {
   "cell_type": "code",
   "execution_count": 2,
   "metadata": {},
   "outputs": [],
   "source": [
    "#chrome_options = webdriver.ChromeOptions()\n",
    "#chrome_options.add_argument('headless')\n",
    "#navegador = webdriver.Chrome(options=chrome_options)\n",
    "#Para executar o chorme em 2° plano apague as hashtag acima e a variavel navegador abaixo\n",
    "navegador = webdriver.Chrome()\n",
    "#Site para atualziar o drive https://chromedriver.chromium.org/downloads\n",
    "\n"
   ]
  },
  {
   "cell_type": "code",
   "execution_count": 6,
   "metadata": {},
   "outputs": [],
   "source": [
    "\n",
    "for i, cliente in enumerate(endereço['unidade']):\n",
    "    inicio = endereço.loc[i, 'unidade']\n",
    "    final = endereço.loc[i, 'endereço']\n",
    "    navegador.get(f'https://www.google.com.br/maps/dir/{inicio}/{final}')\n",
    "    navegador.find_element(By.XPATH,'//*[@id=\"omnibox-directions\"]/div/div[2]/div/div/div[1]/div[2]/button/img').click()\n",
    "    time.sleep(3)\n",
    "    try:\n",
    "        km = navegador.find_element(By.XPATH,'//*[@id=\"section-directions-trip-0\"]/div/div[1]/div[1]/div[2]/div').text\n",
    "    except NoSuchElementException:\n",
    "        km=(\"ERROR\")\n",
    "    try:\n",
    "        tempo = navegador.find_element(By.XPATH,'//*[@id=\"section-directions-trip-0\"]/div[1]/div/div[1]/div[2]/div').text\n",
    "    except NoSuchElementException:\n",
    "        tempo=(\"ERROR\")\n",
    "    endereço.loc[i,'distancia'] = km\n",
    "    endereço.loc[i,'tempo'] = tempo\n",
    "    "
   ]
  },
  {
   "cell_type": "code",
   "execution_count": 7,
   "metadata": {},
   "outputs": [],
   "source": [
    "endereço.to_excel('Distancia.xlsx')"
   ]
  }
 ],
 "metadata": {
  "kernelspec": {
   "display_name": "Python 3",
   "language": "python",
   "name": "python3"
  },
  "language_info": {
   "codemirror_mode": {
    "name": "ipython",
    "version": 3
   },
   "file_extension": ".py",
   "mimetype": "text/x-python",
   "name": "python",
   "nbconvert_exporter": "python",
   "pygments_lexer": "ipython3",
   "version": "3.11.5"
  },
  "vscode": {
   "interpreter": {
    "hash": "ebe0b94344c0f4b7f5f23c6264dd64bfe6fbc608d3c775e4a8d0508d40af3b3e"
   }
  }
 },
 "nbformat": 4,
 "nbformat_minor": 2
}
