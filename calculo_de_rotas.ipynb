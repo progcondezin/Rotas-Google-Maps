{
 "cells": [
  {
   "cell_type": "code",
   "execution_count": 7,
   "metadata": {},
   "outputs": [],
   "source": [
    "from selenium import webdriver\n",
    "from webdriver_manager.chrome import ChromeDriverManager\n",
    "from selenium.webdriver.chrome.service import Service\n",
    "import time\n",
    "from selenium.webdriver.common.keys import Keys\n",
    "import pandas as pd\n",
    "from selenium.common.exceptions import NoSuchElementException\n",
    "from selenium.common.exceptions import ElementClickInterceptedException\n",
    "from selenium.webdriver.common.by import By"
   ]
  },
  {
   "cell_type": "code",
   "execution_count": 8,
   "metadata": {},
   "outputs": [],
   "source": [
    "df_vets = pd.read_excel(r\"caminho_planilha\\endereco.xlsx\")\n"
   ]
  },
  {
   "cell_type": "code",
   "execution_count": 9,
   "metadata": {},
   "outputs": [],
   "source": [
    "#options = webdriver.ChromeOptions()\n",
    "#options.add_argument(\"--headless\")\n",
    "servico = Service(ChromeDriverManager().install())\n",
    "\n"
   ]
  },
  {
   "cell_type": "code",
   "execution_count": 10,
   "metadata": {},
   "outputs": [],
   "source": [
    "navegador = webdriver.Chrome(service=servico) #chrome_options=options"
   ]
  },
  {
   "cell_type": "code",
   "execution_count": 11,
   "metadata": {},
   "outputs": [
    {
     "name": "stdout",
     "output_type": "stream",
     "text": [
      "AV Zumkeller 753, São paulo - SP\n",
      "martim francisco 309, são paulo - sp\n"
     ]
    }
   ],
   "source": [
    "for i, cliente in enumerate(df_vets['endereco']):\n",
    "    inicio = 'R. Vieira de Morais, 1862 - Campo Belo, São Paulo - SP, 04617-007'\n",
    "    final = df_vets.loc[i, 'endereco']\n",
    "    navegador.get(f'https://www.google.com.br/maps/dir/{inicio}/{final}')\n",
    "    try:\n",
    "        click = navegador.find_element('xpath','//*[@id=\"omnibox-directions\"]/div/div[2]/div/div/div/div[2]/button/img').click()\n",
    "        time.sleep(3)\n",
    "    except NoSuchElementException:\n",
    "        pass\n",
    "    try:\n",
    "        km = navegador.find_element('xpath','//*[@id=\"section-directions-trip-0\"]/div[1]/div/div[1]/div[2]/div').text\n",
    "    except NoSuchElementException:\n",
    "        km=(\"ERROR\")\n",
    "    try:\n",
    "        tempo = navegador.find_element('xpath','//*[@id=\"section-directions-trip-0\"]/div[1]/div/div[1]/div[1]').text\n",
    "    except NoSuchElementException:\n",
    "        tempo=(\"ERROR\")\n",
    "    df_vets.loc[i,'distancia'] = km\n",
    "    df_vets.loc[i,'tempo'] = tempo\n",
    "    print(final)"
   ]
  },
  {
   "cell_type": "code",
   "execution_count": 12,
   "metadata": {},
   "outputs": [],
   "source": [
    "df_vets.to_excel(r'caminho_dowload\\endereco.xlsx',index=False)"
   ]
  }
 ],
 "metadata": {
  "interpreter": {
   "hash": "f8b9a6543fba5fe280e001fbb10305196a7a38b1c308dec467bf7574d79e2fac"
  },
  "kernelspec": {
   "display_name": "Python 3",
   "language": "python",
   "name": "python3"
  },
  "language_info": {
   "codemirror_mode": {
    "name": "ipython",
    "version": 3
   },
   "file_extension": ".py",
   "mimetype": "text/x-python",
   "name": "python",
   "nbconvert_exporter": "python",
   "pygments_lexer": "ipython3",
   "version": "3.8.8"
  }
 },
 "nbformat": 4,
 "nbformat_minor": 2
}
